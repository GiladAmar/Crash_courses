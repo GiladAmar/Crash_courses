{
 "cells": [
  {
   "cell_type": "code",
   "execution_count": null,
   "metadata": {},
   "outputs": [],
   "source": [
    "%load_ext line_profiler\n",
    "%load_ext heat\n",
    "\n",
    "\n",
    "# automatically reload modules when they have changed\n",
    "%load_ext autoreload\n",
    "%autoreload 2\n",
    "\n",
    "\n",
    "%whos \n",
    "#See list of variables"
   ]
  },
  {
   "cell_type": "code",
   "execution_count": 16,
   "metadata": {},
   "outputs": [],
   "source": [
    "from random import random\n",
    "\n",
    "def estimate_pi(n=1e7) -> \"area\":\n",
    "    \"\"\"Estimate pi with monte carlo simulation.\n",
    "    \n",
    "    Arguments:\n",
    "        n: number of simulations\n",
    "    \"\"\"\n",
    "    in_circle = 0\n",
    "    total = n\n",
    "    \n",
    "    while n != 0:\n",
    "        prec_x = random()\n",
    "        prec_y = random()\n",
    "        if pow(prec_x, 2) + pow(prec_y, 2) <= 1:\n",
    "            in_circle += 1 # inside the circle\n",
    "        n -= 1\n",
    "        \n",
    "    return 4 * in_circle / total"
   ]
  },
  {
   "cell_type": "code",
   "execution_count": 19,
   "metadata": {
    "collapsed": false
   },
   "outputs": [
    {
     "name": "stdout",
     "output_type": "stream",
     "text": [
      "CPU times: user 4.87 s, sys: 0 ns, total: 4.87 s\nWall time: 4.87 s\n"
     ]
    },
    {
     "data": {
      "text/plain": [
       "3.1404184"
      ]
     },
     "execution_count": 18,
     "metadata": {},
     "output_type": "execute_result"
    }
   ],
   "source": [
    "%time estimate_pi()"
   ]
  },
  {
   "cell_type": "code",
   "execution_count": 27,
   "metadata": {},
   "outputs": [
    {
     "name": "stdout",
     "output_type": "stream",
     "text": [
      "CPU times: user 4.89 s, sys: 11.8 ms, total: 4.9 s\nWall time: 4.92 s\n"
     ]
    },
    {
     "data": {
      "text/plain": [
       "3.1409752"
      ]
     },
     "execution_count": 25,
     "metadata": {},
     "output_type": "execute_result"
    }
   ],
   "source": [
    "%%time \n",
    "estimate_pi()"
   ]
  },
  {
   "cell_type": "code",
   "execution_count": 27,
   "metadata": {},
   "outputs": [
    {
     "name": "stdout",
     "output_type": "stream",
     "text": [
      "4.92 s ± 75.8 ms per loop (mean ± std. dev. of 7 runs, 1 loop each)\n"
     ]
    }
   ],
   "source": [
    "%timeit estimate_pi()"
   ]
  },
  {
   "cell_type": "code",
   "execution_count": 27,
   "metadata": {},
   "outputs": [
    {
     "name": "stdout",
     "output_type": "stream",
     "text": [
      " "
     ]
    }
   ],
   "source": [
    "%prun estimate_pi()"
   ]
  },
  {
   "cell_type": "code",
   "execution_count": 30,
   "metadata": {},
   "outputs": [],
   "source": [
    "%lprun -f estimate_pi estimate_pi()"
   ]
  },
  {
   "cell_type": "code",
   "execution_count": 30,
   "metadata": {},
   "outputs": [
    {
     "name": "stderr",
     "output_type": "stream",
     "text": [
      "UsageError: Line magic function `%memit` not found.\n"
     ]
    }
   ],
   "source": [
    "%memit estimate_pi()"
   ]
  },
  {
   "cell_type": "code",
   "execution_count": null,
   "metadata": {},
   "outputs": [],
   "source": [
    "%mprun -f estimate_pi estimate_pi()\n",
    "\n",
    "\n",
    "pip install jupyter_contrib_nbextensions\n",
    "jupyter contrib nbextension install --user\n",
    "\n",
    "%show all outputs\n",
    "from IPython.core.interactiveshell import InteractiveShell\n",
    "InteractiveShell.ast_node_interactivity = \"all\"\n",
    "\n",
    "# Add themes\n",
    "pip install jupyterthemes\n",
    "jt -t chesterish\n",
    "#jt -r\n",
    "\n",
    "# Start with some imports!\n",
    "from ipywidgets import interact, interact_manual\n",
    "import ipywidgets as widgets\n",
    "\n",
    "\n",
    "@interact\n",
    "def show_articles_more_than(column='claps', x=5000):\n",
    "    return df.loc[df[column] > x]\n",
    "\n",
    "\n",
    "\n",
    "    %env CUDA_VISIBLE_DEVICES=''\n",
    "\n",
    "\n",
    "\n",
    "import cufflinks as cf \n",
    "@interact\n",
    "def scatter_plot(\n",
    "                x=list(df.select_dtypes('number').columns),                  \n",
    "                y=list(df.select_dtypes('number').columns)[1:],                 \n",
    "                theme=list(cf.themes.THEMES.keys()),                  \n",
    "                colorscale=list(cf.colors._scales_names.keys())\n",
    "                ): \n",
    "    df.iplot(\n",
    "            kind='scatter', \n",
    "            x=x, \n",
    "            y=y, \n",
    "            mode='markers', \n",
    "            xTitle=x.title(), \n",
    "            yTitle=y.title(), \n",
    "            text='title', \n",
    "            title=f'{y.title()} vs {x.title()}',            \n",
    "            theme=theme, \n",
    "            colorscale=colorscale\n",
    "            )\n",
    "\n",
    "\n",
    "\n",
    "\n",
    "\n",
    "%load_ext autoreload\n",
    "%autoreload 1\n",
    "\n",
    "\n",
    "\n",
    "\n",
    "#with pip\n",
    "    pip install qgrid\n",
    "    jupyter nbextension enable --py --sys-prefix qgrid\n",
    "# only required if you have not enabled the ipywidgets nbextension yet\n",
    "    jupyter nbextension enable --py --sys-prefix widgetsnbextension\n",
    "\n",
    "\n",
    "\n",
    "import qgrid\n",
    "qgrid_widget =  qgrid.show_grid(df, show_toolbar=True)\n",
    "qgrid_widget\n",
    "\n",
    "\n",
    "\n",
    "\n",
    "%load_ext sql_magic\n",
    "\n",
    "import sqlalchemy\n",
    "import pandas as pd\n",
    "import sqlite3\n",
    "from sqlalchemy import create_engine\n",
    "sqlite_engine = create_engine('sqlite://')\n",
    "\n",
    "%config SQL.conn_name = \"sqlite_engine\"\n",
    "\n",
    "%config SQL\n",
    "\n",
    "%config SQL.output_result = False\n",
    "\n",
    "%%read_sql df\n",
    "SELECT * FROM presidents\n",
    "\n",
    "\n",
    "df\n",
    "\n",
    "\n",
    "later_presidents = %read_sql SELECT * FROM presidents WHERE year_of_birth > 1825"
   ]
  }
 ],
 "metadata": {
  "kernelspec": {
   "display_name": "Python 2",
   "language": "python",
   "name": "python2"
  },
  "language_info": {
   "codemirror_mode": {
    "name": "ipython",
    "version": 2
   },
   "file_extension": ".py",
   "mimetype": "text/x-python",
   "name": "python",
   "nbconvert_exporter": "python",
   "pygments_lexer": "ipython2",
   "version": "2.7.6"
  },
  "pycharm": {
   "stem_cell": {
    "cell_type": "raw",
    "source": [],
    "metadata": {
     "collapsed": false
    }
   }
  }
 },
 "nbformat": 4,
 "nbformat_minor": 0
}