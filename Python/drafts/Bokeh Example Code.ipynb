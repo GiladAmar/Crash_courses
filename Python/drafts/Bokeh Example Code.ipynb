{
 "cells": [
  {
   "cell_type": "code",
   "execution_count": 1,
   "metadata": {
    "collapsed": false
   },
   "outputs": [],
   "source": [
    "from bokeh.charts import Bar,output_file,show,color,Line,Scatter,Histogram,output_notebook\n",
    "import numpy\n",
    "from bokeh.plotting import figure\n",
    "import pandas as pd\n",
    "\n",
    "from bokeh.charts import defaults\n",
    "\n",
    "defaults.width = 450\n",
    "defaults.height = 350"
   ]
  },
  {
   "cell_type": "code",
   "execution_count": null,
   "metadata": {
    "collapsed": false
   },
   "outputs": [],
   "source": []
  },
  {
   "cell_type": "code",
   "execution_count": 2,
   "metadata": {
    "collapsed": true
   },
   "outputs": [],
   "source": [
    "# build a dataset where multiple columns measure the same thing\n",
    "data = dict(python=[2, 3, 7, 5, 26, 221, 44, 233, 254, 265, 266, 267, 120, 111],\n",
    "            pypy=[12, 33, 47, 15, 126, 121, 144, 233, 254, 225, 226, 267, 110, 130],\n",
    "            jython=[22, 43, 10, 25, 26, 101, 114, 203, 194, 215, 201, 227, 139, 160],\n",
    "            test=['foo', 'bar', 'foo', 'bar', 'foo', 'bar', 'foo', 'bar', 'foo', 'bar',\n",
    "                  'foo', 'bar', 'foo', 'bar']\n",
    "            )\n",
    "\n",
    "# create a line chart where each column of measures receives a unique color and dash style\n",
    "line = Line(data, y=['python', 'pypy', 'jython'],\n",
    "            dash=['python', 'pypy', 'jython'],\n",
    "            color=['python', 'pypy', 'jython'],\n",
    "            title=\"Interpreter Sample Data\", \n",
    "            ylabel='Duration', \n",
    "            legend=True)\n",
    "\n",
    "output_file(\"line_single.html\", title=\"line_single.py example\")\n",
    "\n",
    "show(line)"
   ]
  },
  {
   "cell_type": "code",
   "execution_count": 3,
   "metadata": {
    "collapsed": false
   },
   "outputs": [],
   "source": [
    "hist = Histogram(numpy.random.random(size=(1000)),\n",
    "                 xgrid=True,\n",
    "                 ygrid=True,\n",
    "                 bins=30,\n",
    "                 yscale='Linear')#,color='#aa4444')\n",
    "output_file(\"histogram.html\", title=\"Histogram example\")\n",
    "\n",
    "show(hist)"
   ]
  },
  {
   "cell_type": "code",
   "execution_count": null,
   "metadata": {
    "collapsed": false
   },
   "outputs": [],
   "source": []
  },
  {
   "cell_type": "code",
   "execution_count": 5,
   "metadata": {
    "collapsed": true
   },
   "outputs": [],
   "source": [
    "from bokeh.charts import Histogram, output_file, show\n",
    "from bokeh.sampledata.autompg import autompg as df\n",
    "\n",
    "p = Histogram(df, values='hp', color='navy', title=\"HP Distribution\")\n",
    "\n",
    "output_file(\"histogram_color.html\")\n",
    "\n",
    "show(p)"
   ]
  },
  {
   "cell_type": "code",
   "execution_count": 6,
   "metadata": {
    "collapsed": false
   },
   "outputs": [
    {
     "ename": "NameError",
     "evalue": "name 'gridplot' is not defined",
     "output_type": "error",
     "traceback": [
      "\u001b[0;31m---------------------------------------------------------------------------\u001b[0m",
      "\u001b[0;31mNameError\u001b[0m                                 Traceback (most recent call last)",
      "\u001b[0;32m<ipython-input-6-95fc41cb2f2d>\u001b[0m in \u001b[0;36m<module>\u001b[0;34m()\u001b[0m\n\u001b[1;32m     28\u001b[0m \u001b[1;33m\u001b[0m\u001b[0m\n\u001b[1;32m     29\u001b[0m \u001b[1;31m## put all the plots in a gridplot\u001b[0m\u001b[1;33m\u001b[0m\u001b[1;33m\u001b[0m\u001b[0m\n\u001b[0;32m---> 30\u001b[0;31m \u001b[0mp\u001b[0m \u001b[1;33m=\u001b[0m \u001b[0mgridplot\u001b[0m\u001b[1;33m(\u001b[0m\u001b[1;33m[\u001b[0m\u001b[1;33m[\u001b[0m\u001b[0mp1\u001b[0m\u001b[1;33m,\u001b[0m \u001b[0mp2\u001b[0m\u001b[1;33m,\u001b[0m \u001b[0mp3\u001b[0m\u001b[1;33m]\u001b[0m\u001b[1;33m]\u001b[0m\u001b[1;33m,\u001b[0m \u001b[0mtoolbar_location\u001b[0m\u001b[1;33m=\u001b[0m\u001b[0mNone\u001b[0m\u001b[1;33m)\u001b[0m\u001b[1;33m\u001b[0m\u001b[0m\n\u001b[0m",
      "\u001b[0;31mNameError\u001b[0m: name 'gridplot' is not defined"
     ]
    }
   ],
   "source": [
    "\n",
    "# create a new plot with default tools, using figure\n",
    "p = figure(plot_width=400, plot_height=400,title=\"Epoch time vs Batch Size\") #x_range=[0,10], y_range=[0,10]\n",
    "p.outline_line_width = 7\n",
    "p.outline_line_alpha = 0.3\n",
    "#p.outline_line_color = \"navy\"\n",
    "# change just some things about the x-axes\n",
    "p.xaxis.axis_label = \"Temp\"\n",
    "p.xaxis.axis_line_width = 3\n",
    "#p.xaxis.axis_line_color = \"red\"\n",
    "\n",
    "# change just some things about the y-axes\n",
    "p.yaxis.axis_label = \"Pressure\"\n",
    "#p.yaxis.major_label_text_color = \"orange\"\n",
    "p.yaxis.major_label_orientation = \"vertical\"\n",
    "\n",
    "# change things on all axes\n",
    "p.axis.minor_tick_in = -3\n",
    "p.axis.minor_tick_out = 6\n",
    "\n",
    "\n",
    "p.legend.location = \"bottom_left\"\n",
    "\n",
    "\n",
    "# add a line renderer\n",
    "p.line([1, 2, 3, 4, 5], [6, 7, 2, 4, 5], line_width=2) #line_dash=\"4 4\", line_width=1, color='gray',legend=\"3*sin(x)\"\n",
    "#line_color, line_alpha, line_width and line_dash.marker='cyl', color='cyl',\n",
    "\n",
    "## put all the plots in a gridplot\n",
    "p = gridplot([[p1, p2, p3]], toolbar_location=None)"
   ]
  },
  {
   "cell_type": "code",
   "execution_count": 7,
   "metadata": {
    "collapsed": false
   },
   "outputs": [],
   "source": [
    "scatter = p.scatter(x=numpy.random.random(size=(100)),\n",
    "                    y = numpy.random.random(size=(100)),size=15, \n",
    "                    line_color=\"navy\", \n",
    "                    fill_color=\"orange\", \n",
    "                    fill_alpha=0.5,\n",
    "                    marker='square')\n",
    "\n",
    "# keep a reference to the returned GlyphRenderer\n",
    "r = p.circle([1,2,3,4,5], [2,5,8,2,7])\n",
    "\n",
    "r.glyph.size = 50\n",
    "r.glyph.fill_alpha = 0.2\n",
    "r.glyph.line_color = \"firebrick\"\n",
    "r.glyph.line_dash = [5, 1]\n",
    "r.glyph.line_width = 2\n",
    "\n",
    "show(p)"
   ]
  },
  {
   "cell_type": "code",
   "execution_count": 60,
   "metadata": {
    "collapsed": false
   },
   "outputs": [],
   "source": []
  },
  {
   "cell_type": "code",
   "execution_count": null,
   "metadata": {
    "collapsed": true
   },
   "outputs": [],
   "source": [
    "TExt\n",
    "\n",
    " fill_color and fill_alpha.\n",
    "\n",
    "Text Properties\n",
    "Set the visual appearance of lines of text. The most common are text_font, text_font_size, text_color, and text_alpha."
   ]
  }
 ],
 "metadata": {
  "anaconda-cloud": {},
  "kernelspec": {
   "display_name": "Python [Root]",
   "language": "python",
   "name": "Python [Root]"
  },
  "language_info": {
   "codemirror_mode": {
    "name": "ipython",
    "version": 2
   },
   "file_extension": ".py",
   "mimetype": "text/x-python",
   "name": "python",
   "nbconvert_exporter": "python",
   "pygments_lexer": "ipython2",
   "version": "2.7.12"
  }
 },
 "nbformat": 4,
 "nbformat_minor": 0
}
