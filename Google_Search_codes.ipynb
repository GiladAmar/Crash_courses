{
 "cells": [
  {
   "cell_type": "code",
   "execution_count": 1,
   "metadata": {
    "collapsed": true
   },
   "outputs": [
    {
     "ename": "SyntaxError",
     "evalue": "invalid syntax (<ipython-input-1-a5bd9806387f>, line 1)",
     "output_type": "error",
     "traceback": [
      "\u001b[1;36m  File \u001b[1;32m\"<ipython-input-1-a5bd9806387f>\"\u001b[1;36m, line \u001b[1;32m1\u001b[0m\n\u001b[1;33m    cache:      Show the cached snapshot of a page\u001b[0m\n\u001b[1;37m         ^\u001b[0m\n\u001b[1;31mSyntaxError\u001b[0m\u001b[1;31m:\u001b[0m invalid syntax\n"
     ]
    }
   ],
   "source": [
    "cache:      Show the cached snapshot of a page\n",
    "link:       List pages which link to a page\n",
    "related:    List pages which Google consider to be related to another\n",
    "define:     Show Google's glossary definition for a term\n",
    "site:       Restrict a search to a single site\n",
    "allintitle: Restrict a search so that all the keywords must appear in the title\n",
    "intitle:    Restrict a search so that some of the keywords must appear in the title\n",
    "allintext:  Restrict a search so that all of the keywords must appear in the body text\n",
    "allinurl:   Restrict a search so that all of the keywords must appear in the page address\n",
    "inurl:      Restrict a search so that some keywords must appear in the page address\n",
    "OR          List pages which have at least some of the keywords\n",
    "+           Insist that the search engine includes a given keyword in the search results\n",
    "-           Insist that the search engine omits pages which match a given keyword in the search results\n",
    "~           Enhance a search to include synonyms for a given keyword\n",
    "*           Include a wildcard match in your search results\n",
    "[#]...[#]   Search a range of numbers as a keyword\n",
    "\"\"          Restrict a search so that the keywords must appear consecutively in a phrase\n",
    "date:       Restrict a search to a recent timeframe\n",
    "safesearch: Restrict a search to exclude adult-content\n",
    "filetype:   Restrict a search to a given type of file\n",
    "language:   Restrict search to pages in language"
   ]
  }
 ],
 "metadata": {
  "kernelspec": {
   "display_name": "Python 2",
   "language": "python",
   "name": "python2"
  },
  "language_info": {
   "codemirror_mode": {
    "name": "ipython",
    "version": 2
   },
   "file_extension": ".py",
   "mimetype": "text/x-python",
   "name": "python",
   "nbconvert_exporter": "python",
   "pygments_lexer": "ipython2",
   "version": "2.7.11"
  }
 },
 "nbformat": 4,
 "nbformat_minor": 0
}
