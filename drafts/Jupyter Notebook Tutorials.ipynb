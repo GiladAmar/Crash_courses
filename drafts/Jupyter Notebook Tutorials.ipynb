{
 "cells": [
  {
   "cell_type": "markdown",
   "metadata": {},
   "source": "Notebooks can be exported to different static formats including HTML, reStructeredText, LaTeX, PDF, and slide shows (reveal.js) using Jupyter’s nbconvert utility."
  },
  {
   "metadata": {},
   "cell_type": "code",
   "outputs": [],
   "execution_count": null,
   "source": [
    "Code cells: Input and output of live code that is run in the kernel\n",
    "\n",
    "Markdown cells: Narrative text with embedded LaTeX equations\n",
    "\n",
    "Heading cells: 6 levels of hierarchical organization and formatting\n",
    "\n",
    "Raw cells: Unformatted text that is included, without modification, when notebooks are converted to different formats using nbconvert"
   ]
  },
  {
   "metadata": {},
   "cell_type": "code",
   "outputs": [],
   "execution_count": null,
   "source": [
    "Ctrl-]        : indent\n",
    "Ctrl-[        : dedent\n",
    "Ctrl-Right    : go one word right\n",
    "Ctrl-Backspace: delete word before\n",
    "Ctrl-Delete   : delete word after\n",
    "Shift-Enter   : run cell, select below\n",
    "Ctrl-Enter    : run selected cells"
   ]
  },
  {
   "metadata": {},
   "cell_type": "code",
   "outputs": [],
   "execution_count": null,
   "source": [
    "# Command Mode\n",
    "Alt-Enter: run cell, insert below\n",
    "Y        : to code\n",
    "M        : to markdown\n",
    "R        : to raw\n",
    "1        : to heading 1\n",
    "2        : to heading 2\n",
    "3        : to heading 3\n",
    "4        : to heading 4\n",
    "5        : to heading 5\n",
    "6        : to heading 6\n",
    "\n",
    "Down     : select cell below\n",
    "Up       : select cell above\n",
    "    \n",
    "Shift-J    : extend selected cells below\n",
    "A    : insert cell above\n",
    "B    : insert cell below\n",
    "X    : cut cell\n",
    "C    : copy cell\n",
    "Shift-V    : paste cell above\n",
    "      V    : paste cell below\n",
    "      Z    : undo cell deletion\n",
    "      D,D  : delete selected cell\n",
    "Shift-M    : merge selected cells, or current cell with cell below if only one cell selected`\n",
    "L          : toggle line numbers\n",
    "O          : toggle output of selected cells\n",
    "Shift-O    : toggle output scrolling of selected cells\n",
    "H          : show keyboard shortcuts\n",
    "I,I        : interrupt kernel\n",
    "0,0        : restart the kernel (with dialog)\n",
    "Esc        : close the pager\n",
    "Q          : close the pager\n",
    "Shift-Space: scroll notebook up\n",
    "Space      : scroll notebook down    "
   ]
  },
  {
   "cell_type": "markdown",
   "metadata": {},
   "source": [
    "$$e^x=\\sum_{i=0}^\\infty \\frac{1}{i!}x^i$$\n",
    "\n",
    "$e^{i\\pi} + 1 = 0$ as part of line in a [Markdown-formatted](http://daringfireball.net/projects/markdown/) sentence."
   ]
  },
  {
   "cell_type": "code",
   "metadata": {
    "collapsed": true,
    "jupyter": {
     "is_executing": true
    }
   },
   "source": [
    "from IPython.display import Image\n",
    "img_url = 'http://www.lawrencehallofscience.org/static/scienceview/scienceview.berkeley.edu/html/view/view_assets/images/newview.jpg'\n",
    "\n",
    "# by default Image data are embedded\n",
    "Embed      = Image(img_url)\n",
    "\n",
    "# if kwarg `url` is given, the embedding is assumed to be false\n",
    "SoftLinked = Image(url=img_url)\n",
    "\n",
    "# In each case, embed can be specified explicitly with the `embed` kwarg\n",
    "# ForceEmbed = Image(url=img_url, embed=True)"
   ],
   "outputs": [],
   "execution_count": null
  },
  {
   "cell_type": "code",
   "metadata": {
    "collapsed": false,
    "jupyter": {
     "is_executing": true
    }
   },
   "source": "Embed",
   "outputs": [],
   "execution_count": null
  },
  {
   "cell_type": "code",
   "metadata": {
    "collapsed": false,
    "jupyter": {
     "is_executing": true
    }
   },
   "source": [
    "SoftLinked"
   ],
   "outputs": [],
   "execution_count": null
  },
  {
   "cell_type": "code",
   "metadata": {
    "collapsed": false,
    "jupyter": {
     "is_executing": true
    }
   },
   "source": [
    "%%latex\n",
    "\\begin{align}\n",
    "\\nabla \\times \\vec{\\mathbf{B}} -\\, \\frac1c\\, \\frac{\\partial\\vec{\\mathbf{E}}}{\\partial t} & = \\frac{4\\pi}{c}\\vec{\\mathbf{j}} \\\\\n",
    "\\nabla \\cdot \\vec{\\mathbf{E}} & = 4 \\pi \\rho \\\\\n",
    "\\nabla \\times \\vec{\\mathbf{E}}\\, +\\, \\frac1c\\, \\frac{\\partial\\vec{\\mathbf{B}}}{\\partial t} & = \\vec{\\mathbf{0}} \\\\\n",
    "\\nabla \\cdot \\vec{\\mathbf{B}} & = 0\n",
    "\\end{align}"
   ],
   "outputs": [],
   "execution_count": null
  },
  {
   "cell_type": "code",
   "metadata": {
    "collapsed": false,
    "jupyter": {
     "is_executing": true
    }
   },
   "source": [
    "from IPython.display import Audio, YouTubeVideo, HTML,  IFrame\n",
    "\n",
    "Audio(url=\"http://www.nch.com.au/acm/8k16bitpcm.wav\")\n",
    "\n",
    "YouTubeVideo('sjfsUzECqK0')\n",
    "\n",
    "IFrame('http://jupyter.org', width='100%', height=350)\n",
    "\n",
    "from base64 import b64encode\n",
    "video = open(\"../images/animation.m4v\", \"rb\").read()\n",
    "video_encoded = b64encode(video).decode('ascii')\n",
    "video_tag = '<video controls alt=\"test\" src=\"data:video/x-m4v;base64,{0}\">'.format(video_encoded)\n",
    "HTML(data=video_tag)"
   ],
   "outputs": [],
   "execution_count": null
  },
  {
   "metadata": {},
   "cell_type": "code",
   "outputs": [],
   "execution_count": null,
   "source": [
    "from IPython.core.interactiveshell import InteractiveShell\n",
    "InteractiveShell.ast_node_interactivity = \"all\"\n",
    "\n",
    "# Profiling\n",
    "#pip install line-profiler\n",
    "%load_ext line_profiler\n",
    "%load_ext heat\n",
    "%time\n",
    "%timeit\n",
    "%prun\n",
    "# %lprun -f sub_function full_function(**params)\n",
    "%mprun -f estimate_pi estimate_pi()\n",
    "\n",
    "\n",
    "# Reload Modules\n",
    "%load_ext autoreload\n",
    "%autoreload 2\n",
    "\n",
    "\n",
    "# Debugging\n",
    "%pdb\n",
    "%debug\n",
    "\n",
    "# Caching\n",
    "%store var - store var in jupyter noteboook without re-running\n",
    "% store list all vars\n",
    "\n",
    "%precision 3\n",
    "\n",
    "\n",
    "%matplotlib inline\n",
    "notebook\n",
    "# ipyml #?????\n",
    "\n",
    "%%bash\n",
    "# echo \"hello from $BASH\"\n",
    "\n",
    "%%html\n",
    "#Render the cell as a block of HTML\n",
    "\n",
    "%%javascript\n",
    "#Run the cell block of Javascript code\n",
    "\n",
    "%%latex\n",
    "#Render the cell as a block of latex"
   ]
  }
 ],
 "metadata": {
  "kernelspec": {
   "display_name": "Python 2",
   "language": "python",
   "name": "python2"
  },
  "language_info": {
   "codemirror_mode": {
    "name": "ipython",
    "version": 2
   },
   "file_extension": ".py",
   "mimetype": "text/x-python",
   "name": "python",
   "nbconvert_exporter": "python",
   "pygments_lexer": "ipython2",
   "version": "2.7.11"
  }
 },
 "nbformat": 4,
 "nbformat_minor": 0
}
