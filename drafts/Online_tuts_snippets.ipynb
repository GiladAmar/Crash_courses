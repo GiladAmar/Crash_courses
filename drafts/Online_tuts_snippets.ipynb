{
 "cells": [
  {
   "cell_type": "code",
   "execution_count": 70,
   "metadata": {},
   "outputs": [],
   "source": [
    "import cv2\n",
    "\n",
    "def _hist(img, hmax, x,y,h,w,type):\n",
    "    hist, bins = np.histogram(img[y:y + h, x:x + w], bins='auto')\n",
    "    max1 = np.amax(bins)\n",
    "    alpha = hmax / float(max1)\n",
    "    corrected = np.asarray(np.where(img <= max1, np.multiply(alpha, img), hmax), type)\n",
    "\n",
    "    return corrected\n",
    "\n",
    "def _max(img, hmax,mask,x,y,h,w,type):\n",
    "    imgcp = np.copy(img)\n",
    "    cv2.rectangle(mask, (x, y), (x + w, y + h), (255, 255, 255), -1)\n",
    "    mask_binary = mask[:, :, 0]\n",
    "    retval, mask_binary = cv2.threshold(mask_binary, 254, 255, cv2.THRESH_BINARY)\n",
    "    _, masked = apply_mask(imgcp, mask_binary, 'black', 0, debug=None)\n",
    "    max1 = np.amax(masked)\n",
    "    alpha = hmax / float(max1)\n",
    "    corrected = np.asarray(np.where(img <= max1, np.multiply(alpha, img), hmax), type)\n",
    "\n",
    "    return corrected\n",
    "\n",
    "def white_balance(device, img, mode='hist',debug=None, roi=None):\n",
    "    \"\"\"Corrects the exposure of an image based on its histogram.\n",
    "    Inputs:\n",
    "    device  = pipeline step counter\n",
    "    img     = An RGB image on which to perform the correction, correction is done on each channel and then reassembled,\n",
    "              alternatively a single channel can be input but is not recommended.\n",
    "    mode    = 'hist or 'max'\n",
    "    debug   = None, print, or plot. Print = save to file, Plot = print to screen.\n",
    "    roi     = A list of 4 points (x, y, width, height) that form the rectangular ROI of the white color standard.\n",
    "              If a list of 4 points is not given, whole image will be used.\n",
    "    Returns:\n",
    "    device  = pipeline step counter\n",
    "    img     = Image after exposure correction\n",
    "    :param device: int\n",
    "    :param img: ndarray\n",
    "    :param debug: str\n",
    "    :param roi: list\n",
    "    \"\"\"\n",
    "    device += 1\n",
    "\n",
    "    ori_img = np.copy(img)\n",
    "\n",
    "    if roi is not None:\n",
    "        roiint = all(isinstance(item, int) for item in roi)\n",
    "\n",
    "        if len(roi) != 4 | roiint is False:\n",
    "            fatal_error('If ROI is used ROI must have 4 elements as a list and all must be integers')\n",
    "    else:\n",
    "        pass\n",
    "\n",
    "    if len(np.shape(img)) == 3:\n",
    "        iy, ix, iz = np.shape(img)\n",
    "        hmax=255\n",
    "        type = np.uint8\n",
    "    else:\n",
    "        iy, ix = np.shape(img)\n",
    "        if img.dtype == 'uint8':\n",
    "            hmax=255\n",
    "            type=np.uint8\n",
    "        elif img.dtype == 'uint16':\n",
    "            hmax=65536\n",
    "            type=np.uint16\n",
    "\n",
    "    mask = np.zeros((iy, ix, 3), dtype=np.uint8)\n",
    "\n",
    "    if roi is None:\n",
    "        x = 0\n",
    "        y = 0\n",
    "        w = ix\n",
    "        h = iy\n",
    "\n",
    "    else:\n",
    "        x = roi[0]\n",
    "        y = roi[1]\n",
    "        w = roi[2]\n",
    "        h = roi[3]\n",
    "\n",
    "    if len(np.shape(img)) == 3:\n",
    "        cv2.rectangle(ori_img, (x, y), (x + w, y + h), (0, 255, 0), 3)\n",
    "        c1 = img[:, :, 0]\n",
    "        c2 = img[:, :, 1]\n",
    "        c3 = img[:, :, 2]\n",
    "        if mode == 'hist':\n",
    "            channel1 = _hist(c1, hmax, x, y, h, w, type)\n",
    "            channel2 = _hist(c2, hmax, x, y, h, w, type)\n",
    "            channel3 = _hist(c3, hmax, x, y, h, w, type)\n",
    "        else:\n",
    "            channel1 = _max(c1, hmax, mask, x, y, h, w, type)\n",
    "            channel2 = _max(c2, hmax, mask, x, y, h, w, type)\n",
    "            channel3 = _max(c3, hmax, mask, x, y, h, w, type)\n",
    "\n",
    "        finalcorrected = np.dstack((channel1, channel2, channel3))\n",
    "\n",
    "    else:\n",
    "        cv2.rectangle(ori_img, (x, y), (x + w, y + h), (255, 255, 255), 3)\n",
    "        if mode == 'hist':\n",
    "            finalcorrected = _hist(img, hmax, x, y, h, w, type)\n",
    "        elif mode == 'max':\n",
    "            finalcorrected = _max(img, hmax, mask, x, y, h, w, type)\n",
    "\n",
    "    return device, finalcorrected"
   ]
  },
  {
   "cell_type": "code",
   "execution_count": 113,
   "metadata": {},
   "outputs": [
    {
     "name": "stdout",
     "output_type": "stream",
     "text": [
      "4\n"
     ]
    }
   ],
   "source": [
    "def chalk_print(text):\n",
    "    ''' This text is overwritten by the following print statement'''\n",
    "    print(text)\n",
    "    from IPython.display import clear_output\n",
    "    clear_output(wait=True)\n",
    "    \n",
    "chalk_print(3)\n",
    "\n",
    "chalk_print(4)"
   ]
  },
  {
   "cell_type": "code",
   "execution_count": null,
   "metadata": {},
   "outputs": [],
   "source": [
    "# Minkowski style metrics\n",
    "    # euclidean\n",
    "    # manhattan\n",
    "    # chebyshev\n",
    "    # minkowski\n",
    "    \n",
    "# Miscellaneous spatial metrics\n",
    "    # canberra\n",
    "    # braycurtis\n",
    "    # haversine\n",
    "    # Normalized spatial metrics\n",
    "    # mahalanobis\n",
    "    # wminkowski\n",
    "    # seuclidean\n",
    "    \n",
    "# Angular and correlation metrics\n",
    "    # cosine\n",
    "    # correlation\n",
    "    \n",
    "# Metrics for binary data\n",
    "    # hamming\n",
    "    # jaccard\n",
    "    # dice\n",
    "    # russelrao\n",
    "    # kulsinski\n",
    "    # rogerstanimoto\n",
    "    # sokalmichener\n",
    "    # sokalsneath\n",
    "    # yule\n",
    "#pip install umap-learn\n",
    "    \n",
    "fit = umap.UMAP(\n",
    "        n_neighbors=n_neighbors,  # n-neighbors to consider( like t-SNe)\n",
    "        min_dist=min_dist,        # min_dist between pts in embedding (small for local detail, large for global)\n",
    "        n_components=n_components,# n embedding components\n",
    "        metric=metric             # distance metric to use\n",
    "    )\n",
    "u = fit.fit_transform(data)"
   ]
  },
  {
   "cell_type": "code",
   "execution_count": null,
   "metadata": {},
   "outputs": [],
   "source": [
    "from functools import reduce\n",
    "\n",
    "doubled_list = map(lambda x: x * 2, old_list)\n",
    "summation = reduce(lambda x, y: x + y, numbers)"
   ]
  },
  {
   "cell_type": "code",
   "execution_count": null,
   "metadata": {},
   "outputs": [],
   "source": [
    "list_comp = [x ** 2 for x in range(10) if x % 2 == 0]\n",
    "gen_exp = (x ** 2 for x in range(10) if x % 2 == 0) # Uses less memory, computed on the fly"
   ]
  },
  {
   "cell_type": "code",
   "execution_count": 101,
   "metadata": {},
   "outputs": [
    {
     "data": {
      "text/plain": [
       "True"
      ]
     },
     "execution_count": 101,
     "metadata": {},
     "output_type": "execute_result"
    }
   ],
   "source": [
    "sys.version_info >= (3, 5)"
   ]
  },
  {
   "cell_type": "code",
   "execution_count": 109,
   "metadata": {},
   "outputs": [
    {
     "name": "stdout",
     "output_type": "stream",
     "text": [
      "The line_profiler extension is already loaded. To reload it, use:\n",
      "  %reload_ext line_profiler\n",
      "in some large function\n",
      "in sub-function\n"
     ]
    },
    {
     "data": {
      "text/plain": [
       "Timer unit: 1e-06 s\n",
       "\n",
       "Total time: 4.2e-05 s\n",
       "File: <ipython-input-109-b77cee4c5b07>\n",
       "Function: sub_function at line 5\n",
       "\n",
       "Line #      Hits         Time  Per Hit   % Time  Line Contents\n",
       "==============================================================\n",
       "     5                                           def sub_function(a,b):\n",
       "     6         1         39.0     39.0     92.9      print('in sub-function')\n",
       "     7         1          1.0      1.0      2.4      a = a+1\n",
       "     8         1          1.0      1.0      2.4      b=b**a\n",
       "     9         1          1.0      1.0      2.4      return a*b"
      ]
     },
     "metadata": {},
     "output_type": "display_data"
    }
   ],
   "source": [
    "#pip install line-profiler\n",
    "\n",
    "%load_ext line_profiler\n",
    "\n",
    "def sub_function(a,b):\n",
    "    print('in sub-function')\n",
    "    a = a+1\n",
    "    b=b**a\n",
    "    return a*b\n",
    "\n",
    "def full_function(listy):\n",
    "    print('in some large function')\n",
    "    return sub_function(*listy)\n",
    "\n",
    "# %lprun -f sub_function full_function(**params)\n",
    "\n",
    "%lprun -f sub_function full_function([1,2])"
   ]
  },
  {
   "cell_type": "code",
   "execution_count": 1,
   "metadata": {
    "ExecuteTime": {
     "end_time": "2018-03-20T06:50:46.200946Z",
     "start_time": "2018-03-20T06:50:46.076808Z"
    }
   },
   "outputs": [
    {
     "name": "stdout",
     "output_type": "stream",
     "text": [
      "CPU times: user 4 µs, sys: 0 ns, total: 4 µs\n",
      "Wall time: 6.91 µs\n",
      "[1, 2, 3]\n"
     ]
    }
   ],
   "source": [
    "%time\n",
    "# Map in parallel\n",
    "from multiprocessing.pool import ThreadPool\n",
    "n_cores = 4\n",
    "\n",
    "strings_list = ['a', 'be', 'cee']\n",
    "\n",
    "pool = ThreadPool(n_cores) \n",
    "results = pool.map(len, strings_list)\n",
    "# close the pool and wait for the work to finish \n",
    "pool.close() \n",
    "pool.join() \n",
    "print(results)"
   ]
  },
  {
   "cell_type": "code",
   "execution_count": 2,
   "metadata": {
    "ExecuteTime": {
     "end_time": "2018-03-20T06:50:51.381440Z",
     "start_time": "2018-03-20T06:50:51.293264Z"
    }
   },
   "outputs": [
    {
     "name": "stdout",
     "output_type": "stream",
     "text": [
      "CPU times: user 3 µs, sys: 0 ns, total: 3 µs\n",
      "Wall time: 5.48 µs\n",
      "[1, 2, 3]\n"
     ]
    }
   ],
   "source": [
    "%time\n",
    "import concurrent.futures\n",
    "\n",
    "with concurrent.futures.ProcessPoolExecutor() as executor:\n",
    "    print(list(executor.map(len, strings_list)))"
   ]
  },
  {
   "cell_type": "code",
   "execution_count": 7,
   "metadata": {
    "ExecuteTime": {
     "end_time": "2018-03-20T07:04:07.066355Z",
     "start_time": "2018-03-20T07:04:06.943563Z"
    }
   },
   "outputs": [
    {
     "name": "stdout",
     "output_type": "stream",
     "text": [
      "['Brown & Brown', 'Brown & Wilson', 'Brown & Bartlett', 'Brown & Rivera', 'Brown & Molloy', 'Brown & Opie', 'Wilson & Brown', 'Wilson & Wilson', 'Wilson & Bartlett', 'Wilson & Rivera', 'Wilson & Molloy', 'Wilson & Opie', 'Bartlett & Brown', 'Bartlett & Wilson', 'Bartlett & Bartlett', 'Bartlett & Rivera', 'Bartlett & Molloy', 'Bartlett & Opie', 'Rivera & Brown', 'Rivera & Wilson', 'Rivera & Bartlett', 'Rivera & Rivera', 'Rivera & Molloy', 'Rivera & Opie', 'Molloy & Brown', 'Molloy & Wilson', 'Molloy & Bartlett', 'Molloy & Rivera', 'Molloy & Molloy', 'Molloy & Opie', 'Opie & Brown', 'Opie & Wilson', 'Opie & Bartlett', 'Opie & Rivera', 'Opie & Molloy', 'Opie & Opie']\n"
     ]
    }
   ],
   "source": [
    "import multiprocessing\n",
    "from itertools import product\n",
    "\n",
    "def merge_names(a, b):\n",
    "    return '{} & {}'.format(a, b)\n",
    "\n",
    "\n",
    "names = ['Brown', 'Wilson', 'Bartlett', 'Rivera', 'Molloy', 'Opie']\n",
    "with multiprocessing.Pool(processes=3) as pool:\n",
    "    results = pool.starmap(merge_names, product(names, repeat=2))\n",
    "print(results)"
   ]
  },
  {
   "cell_type": "code",
   "execution_count": null,
   "metadata": {},
   "outputs": [],
   "source": [
    "from tqdm import tqdm\n",
    "from concurrent.futures import ProcessPoolExecutor, as_completed\n",
    "\n",
    "def parallel_process(function, array, n_jobs=16, use_kwargs=False, front_num=0):\n",
    "    \"\"\"\n",
    "        A parallel version of the map function with a progress bar. \n",
    "\n",
    "        Args:\n",
    "            function (function): A python function to apply to the elements of array\n",
    "            array (array-like): An array to iterate over.\n",
    "            n_jobs (int, default=16): The number of cores to use\n",
    "            use_kwargs (boolean, default=False): Whether to consider the elements of array as dictionaries of \n",
    "                keyword arguments to function \n",
    "            front_num (int, default=3): The number of iterations to run serially before kicking off the parallel job. \n",
    "                Useful for catching bugs\n",
    "        Returns:\n",
    "            [function(array[0]), function(array[1]), ...]\n",
    "    \"\"\"\n",
    "    #We run the first few iterations serially to catch bugs\n",
    "    if front_num > 0:\n",
    "        front = [function(**a) if use_kwargs else function(a) for a in array[:front_num]]\n",
    "    else:\n",
    "        front = []\n",
    "    #If we set n_jobs to 1, just run a list comprehension. This is useful for benchmarking and debugging.\n",
    "    if n_jobs==1:\n",
    "        return front + [function(**a) if use_kwargs else function(a) for a in tqdm(array[front_num:])]\n",
    "    #Assemble the workers\n",
    "    with ProcessPoolExecutor(max_workers=n_jobs) as pool:\n",
    "        #Pass the elements of array into function\n",
    "        if use_kwargs:\n",
    "            futures = [pool.submit(function, **a) for a in array[front_num:]]\n",
    "        else:\n",
    "            futures = [pool.submit(function, a) for a in array[front_num:]]\n",
    "        kwargs = {\n",
    "            'total': len(futures),\n",
    "            'unit': 'it',\n",
    "            'unit_scale': True,\n",
    "            'leave': True\n",
    "        }\n",
    "        #Print out the progress as tasks complete\n",
    "        for f in tqdm(as_completed(futures), **kwargs):\n",
    "            pass\n",
    "    out = []\n",
    "    #Get the results from the futures. \n",
    "    for i, future in tqdm(enumerate(futures)):\n",
    "        try:\n",
    "            out.append(future.result())\n",
    "        except Exception as e:\n",
    "            out.append(e)\n",
    "    return front + out"
   ]
  },
  {
   "cell_type": "code",
   "execution_count": null,
   "metadata": {},
   "outputs": [],
   "source": [
    "# Filemagic\n",
    "# pip install filemagic\n",
    "import magic\n",
    "\n",
    "with magic.Magic() as m:\n",
    "    m.id_filename('setup.py')"
   ]
  },
  {
   "cell_type": "code",
   "execution_count": null,
   "metadata": {},
   "outputs": [],
   "source": [
    "# Coloured Strings\n",
    "# pip install crayons\n",
    "# red, green, yellow, blue, black, magenta, cyan, and white\n",
    "import crayons\n",
    "\n",
    "print(crayons.red('WARNING!'))\n",
    "print(f'Username: {crayons.green(\"Goliath\")}')\n"
   ]
  },
  {
   "cell_type": "code",
   "execution_count": 131,
   "metadata": {},
   "outputs": [
    {
     "data": {
      "text/plain": [
       "0"
      ]
     },
     "execution_count": 131,
     "metadata": {},
     "output_type": "execute_result"
    }
   ],
   "source": [
    "from subprocess import call\n",
    "call([\"mkdir\", 'test_dir'])"
   ]
  },
  {
   "cell_type": "code",
   "execution_count": 133,
   "metadata": {},
   "outputs": [
    {
     "name": "stdout",
     "output_type": "stream",
     "text": [
      "('W', 'X')\n",
      "('W', 'Y')\n",
      "('W', 'Z')\n",
      "('X', 'W')\n",
      "('X', 'Y')\n",
      "('X', 'Z')\n",
      "('Y', 'W')\n",
      "('Y', 'X')\n",
      "('Y', 'Z')\n",
      "('Z', 'W')\n",
      "('Z', 'X')\n",
      "('Z', 'Y')\n",
      "\n",
      "('W', 'X')\n",
      "('W', 'Y')\n",
      "('W', 'Z')\n",
      "('X', 'Y')\n",
      "('X', 'Z')\n",
      "('Y', 'Z')\n",
      "\n",
      "('W', 'W')\n",
      "('W', 'X')\n",
      "('W', 'Y')\n",
      "('W', 'Z')\n",
      "('X', 'X')\n",
      "('X', 'Y')\n",
      "('X', 'Z')\n",
      "('Y', 'Y')\n",
      "('Y', 'Z')\n",
      "('Z', 'Z')\n",
      "\n",
      "(-1, -3, -5)\n",
      "(-1, -3, 5)\n",
      "(-1, 3, -5)\n",
      "(-1, 3, 5)\n",
      "(1, -3, -5)\n",
      "(1, -3, 5)\n",
      "(1, 3, -5)\n",
      "(1, 3, 5)\n"
     ]
    }
   ],
   "source": [
    "from itertools import permutations, combinations, combinations_with_replacement\n",
    "from itertools import product\n",
    "\n",
    "for item in permutations('WXYZ', 2):\n",
    "    print(item)\n",
    "\n",
    "print()\n",
    "for item in combinations('WXYZ', 2):\n",
    "    print(item)\n",
    "    \n",
    "print()\n",
    "for item in combinations_with_replacement('WXYZ', 2):\n",
    "    print(item)\n",
    "    \n",
    "print()        \n",
    "arrays = [(-1,1), (-3,3), (-5,5)]\n",
    "for item in product(*arrays):\n",
    "    print(item)\n"
   ]
  },
  {
   "cell_type": "code",
   "execution_count": null,
   "metadata": {},
   "outputs": [],
   "source": [
    "# Log in to email account.\n",
    "smtpObj = smtplib.SMTP('smtp.gmail.com', 587)\n",
    "smtpObj.ehlo()\n",
    "smtpObj.starttls()\n",
    "smtpObj.login('my_email_address@gmail.com ', 'password')\n",
    "\n",
    "body = 'Subject: %s dues unpaid.\\n <Body>'\n",
    "target_email = 'god@wishfulthinking.com'\n",
    "\n",
    "sendmailStatus = smtpObj.sendmail('my_email_address@gmail.com', \n",
    "                                  target_email,\n",
    "                                  body)\n",
    "smtpObj.quit()"
   ]
  },
  {
   "cell_type": "code",
   "execution_count": null,
   "metadata": {},
   "outputs": [],
   "source": [
    "#Simple OCR\n",
    "# install tesseract\n",
    "# instal pyocr\n",
    "from PIL import Image\n",
    "import sys\n",
    "\n",
    "import pyocr\n",
    "import pyocr.builders\n",
    "\n",
    "import glob\n",
    "import yaml\n",
    "\n",
    "from numba import jit\n",
    "import concurrent.futures\n",
    "\n",
    "\n",
    "tools = pyocr.get_available_tools()\n",
    "if len(tools) == 0:\n",
    "    print(\"No OCR tool found\")\n",
    "    sys.exit(1)\n",
    "# The tools are returned in the recommended order of usage\n",
    "tool = tools[0]\n",
    "print(\"Will use tool '%s'\" % (tool.get_name()))\n",
    "# Ex: Will use tool 'libtesseract'\n",
    "\n",
    "langs = tool.get_available_languages()\n",
    "print(\"Available languages: %s\" % \", \".join(langs))\n",
    "lang = langs[0]\n",
    "print(\"Will use lang '%s'\" % (lang))\n",
    "\n",
    "@jit\n",
    "def get_txt(fpath):\n",
    "    return tool.image_to_string(\n",
    "        Image.open(fpath),\n",
    "        lang=lang,\n",
    "        builder=pyocr.builders.TextBuilder()\n",
    "        )\n",
    "\n",
    "with concurrent.futures.ProcessPoolExecutor() as executor:\n",
    "    results = list(executor.map(get_txt, glob.iglob('/home/giladamar/Desktop/Conf leads/*.PNG')))"
   ]
  }
 ],
 "metadata": {
  "kernelspec": {
   "display_name": "Python 3",
   "language": "python",
   "name": "python3"
  },
  "language_info": {
   "codemirror_mode": {
    "name": "ipython",
    "version": 3
   },
   "file_extension": ".py",
   "mimetype": "text/x-python",
   "name": "python",
   "nbconvert_exporter": "python",
   "pygments_lexer": "ipython3",
   "version": "3.6.3"
  },
  "toc": {
   "nav_menu": {},
   "number_sections": true,
   "sideBar": true,
   "skip_h1_title": false,
   "title_cell": "Table of Contents",
   "title_sidebar": "Contents",
   "toc_cell": false,
   "toc_position": {},
   "toc_section_display": true,
   "toc_window_display": false
  },
  "varInspector": {
   "cols": {
    "lenName": 16.0,
    "lenType": 16.0,
    "lenVar": 40.0
   },
   "kernels_config": {
    "python": {
     "delete_cmd_postfix": "",
     "delete_cmd_prefix": "del ",
     "library": "var_list.py",
     "varRefreshCmd": "print(var_dic_list())"
    },
    "r": {
     "delete_cmd_postfix": ") ",
     "delete_cmd_prefix": "rm(",
     "library": "var_list.r",
     "varRefreshCmd": "cat(var_dic_list()) "
    }
   },
   "types_to_exclude": [
    "module",
    "function",
    "builtin_function_or_method",
    "instance",
    "_Feature"
   ],
   "window_display": false
  }
 },
 "nbformat": 4,
 "nbformat_minor": 2
}
